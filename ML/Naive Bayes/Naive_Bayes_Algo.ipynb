{
  "nbformat": 4,
  "nbformat_minor": 0,
  "metadata": {
    "colab": {
      "provenance": []
    },
    "kernelspec": {
      "name": "python3",
      "display_name": "Python 3"
    },
    "language_info": {
      "name": "python"
    }
  },
  "cells": [
    {
      "cell_type": "code",
      "execution_count": 1,
      "metadata": {
        "id": "oWxyZ95ePs2K"
      },
      "outputs": [],
      "source": [
        "import numpy as np\n",
        "from collections import defaultdict"
      ]
    },
    {
      "cell_type": "code",
      "source": [
        "class NaiveBayesClassifier:\n",
        "    def __init__(self):\n",
        "        self.class_priors = defaultdict(float)\n",
        "        self.feature_probs = defaultdict(lambda: defaultdict(float))\n",
        "        self.classes = None\n",
        "\n",
        "    def fit(self, X, y):\n",
        "        \"\"\"\n",
        "        Train the Naive Bayes classifier.\n",
        "        :param X: List of feature vectors (list of lists).\n",
        "        :param y: List of labels (classes).\n",
        "        \"\"\"\n",
        "        self.classes = np.unique(y)\n",
        "        total_samples = len(y)\n",
        "\n",
        "        # Calculate class priors P(Class)\n",
        "        for c in self.classes:\n",
        "            self.class_priors[c] = np.sum(y == c) / total_samples\n",
        "\n",
        "        # Calculate conditional probabilities P(Feature | Class)\n",
        "        for c in self.classes:\n",
        "            class_samples = X[y == c]\n",
        "            total_class_samples = len(class_samples)\n",
        "            for feature_index in range(X.shape[1]):\n",
        "                feature_values, counts = np.unique(class_samples[:, feature_index], return_counts=True)\n",
        "                for value, count in zip(feature_values, counts):\n",
        "                    self.feature_probs[c][(feature_index, value)] = count / total_class_samples\n",
        "\n",
        "    def predict(self, X):\n",
        "        \"\"\"\n",
        "        Predict the class for each sample in X.\n",
        "        :param X: List of feature vectors (list of lists).\n",
        "        :return: List of predicted classes.\n",
        "        \"\"\"\n",
        "        predictions = []\n",
        "        for sample in X:\n",
        "            class_probs = {}\n",
        "            for c in self.classes:\n",
        "                # Start with the prior probability\n",
        "                class_prob = np.log(self.class_priors[c])\n",
        "                for feature_index, value in enumerate(sample):\n",
        "                    # Add the conditional probability if it exists, otherwise use a small smoothing value\n",
        "                    class_prob += np.log(\n",
        "                        self.feature_probs[c].get((feature_index, value), 1e-6)\n",
        "                    )\n",
        "                class_probs[c] = class_prob\n",
        "            # Assign the class with the highest probability\n",
        "            predictions.append(max(class_probs, key=class_probs.get))\n",
        "        return np.array(predictions)"
      ],
      "metadata": {
        "id": "aFu46oilP_ld"
      },
      "execution_count": 2,
      "outputs": []
    },
    {
      "cell_type": "code",
      "source": [
        "# Example usage\n",
        "if __name__ == \"__main__\":\n",
        "    # Sample dataset: Features are categorical\n",
        "    X = np.array([\n",
        "        [\"sunny\", \"hot\", \"high\", \"weak\"],\n",
        "        [\"sunny\", \"hot\", \"high\", \"strong\"],\n",
        "        [\"overcast\", \"hot\", \"high\", \"weak\"],\n",
        "        [\"rain\", \"mild\", \"high\", \"weak\"],\n",
        "        [\"rain\", \"cool\", \"normal\", \"weak\"],\n",
        "        [\"rain\", \"cool\", \"normal\", \"strong\"],\n",
        "        [\"overcast\", \"cool\", \"normal\", \"strong\"],\n",
        "        [\"sunny\", \"mild\", \"high\", \"weak\"],\n",
        "        [\"sunny\", \"cool\", \"normal\", \"weak\"],\n",
        "        [\"rain\", \"mild\", \"normal\", \"weak\"],\n",
        "        [\"sunny\", \"mild\", \"normal\", \"strong\"],\n",
        "        [\"overcast\", \"mild\", \"high\", \"strong\"],\n",
        "        [\"overcast\", \"hot\", \"normal\", \"weak\"],\n",
        "        [\"rain\", \"mild\", \"high\", \"strong\"],\n",
        "    ])\n",
        "    y = np.array([\n",
        "        \"no\", \"no\", \"yes\", \"yes\", \"yes\", \"no\", \"yes\", \"no\", \"yes\", \"yes\",\n",
        "        \"yes\", \"yes\", \"yes\", \"no\"\n",
        "    ])\n",
        "\n",
        "    # Train the classifier\n",
        "    nb = NaiveBayesClassifier()\n",
        "    nb.fit(X, y)\n",
        "\n",
        "    # Test the classifier\n",
        "    test_samples = np.array([\n",
        "        [\"sunny\", \"cool\", \"high\", \"strong\"],\n",
        "        [\"overcast\", \"mild\", \"normal\", \"weak\"],\n",
        "    ])\n",
        "    predictions = nb.predict(test_samples)\n",
        "    print(f\"Predictions: {predictions}\")"
      ],
      "metadata": {
        "colab": {
          "base_uri": "https://localhost:8080/"
        },
        "id": "oSx69ddfQD99",
        "outputId": "04401bd8-ad7a-4115-aa5b-e313f89241eb"
      },
      "execution_count": 3,
      "outputs": [
        {
          "output_type": "stream",
          "name": "stdout",
          "text": [
            "Predictions: ['no' 'yes']\n"
          ]
        }
      ]
    }
  ]
}