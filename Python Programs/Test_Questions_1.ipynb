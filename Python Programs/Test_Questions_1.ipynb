{
  "nbformat": 4,
  "nbformat_minor": 0,
  "metadata": {
    "colab": {
      "provenance": []
    },
    "kernelspec": {
      "name": "python3",
      "display_name": "Python 3"
    },
    "language_info": {
      "name": "python"
    }
  },
  "cells": [
    {
      "cell_type": "markdown",
      "source": [
        "Q1. What are python data types?\n",
        "\n",
        "A1. Python's primary data types include:\n",
        "- Integers (int): Whole numbers (e.g., 5, -3)\n",
        "- Floats (float): Decimal numbers (e.g., 3.14, -0.001)\n",
        "- Strings (str): Text data (e.g., \"hello\", 'Python')\n",
        "- Lists (list): Ordered, mutable collections (e.g., [1, 2, 3])\n",
        "- Tuples (tuple): Ordered, immutable collections (e.g., (1, 2, 3))\n",
        "- Dictionaries (dict): Key-value pairs (e.g., {'key': 'value'})\n",
        "- Sets (set): Unordered collections of unique elements (e.g., {1, 2, 3})"
      ],
      "metadata": {
        "id": "QcLLiboPV3cs"
      }
    },
    {
      "cell_type": "code",
      "source": [
        "# Integers and Floats\n",
        "x = 10          # integer\n",
        "y = 3.14        # float\n",
        "\n",
        "# Strings\n",
        "name = \"Python\"\n",
        "\n",
        "# Lists\n",
        "numbers = [1, 2, 3, 4]  # list (mutable)\n",
        "\n",
        "# Tuples\n",
        "coordinates = (10, 20)  # tuple (immutable)\n",
        "\n",
        "# Dictionaries\n",
        "person = {'name': 'Alice', 'age': 30}  # dictionary (key-value pairs)\n",
        "\n",
        "# Sets\n",
        "unique_numbers = {1, 2, 3, 4, 4}  # set (no duplicate values)\n"
      ],
      "metadata": {
        "id": "LZAuzRmxa8mI"
      },
      "execution_count": null,
      "outputs": []
    },
    {
      "cell_type": "markdown",
      "source": [
        "Q2. Explain the difference between list, tuple, and set.\n",
        "\n",
        "A2. The key differences between lists, tuples, and sets in Python revolve around mutability, ordering, and uniqueness:\n",
        "\n",
        "**List**:\n",
        "- Mutability: Mutable, meaning you can change elements (add, remove, modify).\n",
        "- Ordering: Ordered, elements retain their insertion order.\n",
        "- Uniqueness: Can contain duplicate elements.\n",
        "- Example: numbers = [1, 2, 3, 2]\n",
        "\n",
        "**Tuple**:\n",
        "\n",
        "- Mutability: Immutable, meaning elements cannot be changed after the tuple is created.\n",
        "- Ordering: Ordered, elements retain their insertion order.\n",
        "- Uniqueness: Can contain duplicate elements.\n",
        "- Example: coordinates = (10, 20, 10)\n",
        "\n",
        "**Set**:\n",
        "\n",
        "- Mutability: Mutable, but elements must be immutable types (e.g., integers, strings).\n",
        "- Ordering: Unordered, elements do not retain insertion order.\n",
        "- Uniqueness: Only unique elements are allowed (duplicates are automatically removed).\n",
        "- Example: unique_numbers = {1, 2, 3, 3} (will store as {1, 2, 3})"
      ],
      "metadata": {
        "id": "Jy4R1gkLbA-e"
      }
    },
    {
      "cell_type": "markdown",
      "source": [
        "Q3. How do you handle exceptions in Python?\n",
        "\n",
        "- try: Code that might raise an exception goes here.\n",
        "- except: Handles exceptions if they occur.\n",
        "- else: Executes if no exception occurs.\n",
        "- finally: Always runs, whether an exception occurs or not.\n",
        "- Custom Exceptions: You can define custom exceptions by inheriting from Exception."
      ],
      "metadata": {
        "id": "gwCKoDmFcU7t"
      }
    },
    {
      "cell_type": "code",
      "source": [
        "try:\n",
        "    x = 10 / 0\n",
        "except ZeroDivisionError:\n",
        "    print(\"Cannot divide by zero!\")\n",
        "else:\n",
        "    print(\"No errors!\")\n",
        "finally:\n",
        "    print(\"This will always run.\")\n"
      ],
      "metadata": {
        "colab": {
          "base_uri": "https://localhost:8080/"
        },
        "id": "_YIkvxPycfFR",
        "outputId": "f6700e17-31fb-4e20-f46a-edfd5606575f"
      },
      "execution_count": 1,
      "outputs": [
        {
          "output_type": "stream",
          "name": "stdout",
          "text": [
            "Cannot divide by zero!\n",
            "This will always run.\n"
          ]
        }
      ]
    },
    {
      "cell_type": "markdown",
      "source": [
        "Q4. What are Python decorators?\n",
        "\n",
        "Decorators modify the behavior of functions or methods by wrapping another function. They are often used for logging, access control, or modifying output."
      ],
      "metadata": {
        "id": "XCvsprv_co04"
      }
    },
    {
      "cell_type": "code",
      "source": [
        "def decorator(func):\n",
        "    def wrapper():\n",
        "        print(\"Before function call\")\n",
        "        func()\n",
        "        print(\"After function call\")\n",
        "    return wrapper\n",
        "\n",
        "@decorator\n",
        "def say_hello():\n",
        "    print(\"Hello!\")\n",
        "\n",
        "say_hello()\n"
      ],
      "metadata": {
        "colab": {
          "base_uri": "https://localhost:8080/"
        },
        "id": "OjC8VDaDcvU-",
        "outputId": "f7e7703d-682e-4073-86e7-5c02a1e16469"
      },
      "execution_count": 2,
      "outputs": [
        {
          "output_type": "stream",
          "name": "stdout",
          "text": [
            "Before function call\n",
            "Hello!\n",
            "After function call\n"
          ]
        }
      ]
    },
    {
      "cell_type": "markdown",
      "source": [
        "Q5. What is a lambda function?\n",
        "\n",
        "Lambda functions are anonymous, small functions with no name, defined using lambda. They are used where a function is needed for a short period."
      ],
      "metadata": {
        "id": "daKWqiqScz9K"
      }
    },
    {
      "cell_type": "code",
      "source": [
        "square = lambda x: x * 2\n",
        "print(square(5))  # Output: 10\n"
      ],
      "metadata": {
        "colab": {
          "base_uri": "https://localhost:8080/"
        },
        "id": "au7cg79Hc6PN",
        "outputId": "ba96feea-6dc1-486f-ce38-4a0aae1028c6"
      },
      "execution_count": 3,
      "outputs": [
        {
          "output_type": "stream",
          "name": "stdout",
          "text": [
            "10\n"
          ]
        }
      ]
    },
    {
      "cell_type": "markdown",
      "source": [
        "Q6. How does Python handle multithreading?\n",
        "\n",
        "- Python’s Global Interpreter Lock (GIL) allows only one thread to execute Python code at a time, limiting true multithreading in CPU-bound tasks.\n",
        "- Multithreading is good for I/O-bound tasks.\n",
        "- Multiprocessing uses multiple processes and bypasses the GIL for CPU-bound tasks."
      ],
      "metadata": {
        "id": "hmXLsvTcc99x"
      }
    },
    {
      "cell_type": "code",
      "source": [
        "import threading\n",
        "def print_numbers():\n",
        "    for i in range(5):\n",
        "        print(i)\n",
        "\n",
        "thread = threading.Thread(target=print_numbers)\n",
        "thread.start()\n"
      ],
      "metadata": {
        "colab": {
          "base_uri": "https://localhost:8080/"
        },
        "id": "0PPOfBwodrWM",
        "outputId": "591e9d80-97c5-45bd-84ff-1cc5dcfbbdff"
      },
      "execution_count": 4,
      "outputs": [
        {
          "output_type": "stream",
          "name": "stdout",
          "text": [
            "0\n",
            "1\n",
            "2\n",
            "3\n",
            "4\n"
          ]
        }
      ]
    },
    {
      "cell_type": "markdown",
      "source": [
        "Q7. How do you work with files in Python?\n",
        "\n",
        "Python provides different methods to work with files:\n",
        "- open(): opens a file.\n",
        "- read(): reads the file content.\n",
        "- write(): writes data to the file.\n",
        "- Modes: 'r' (read), 'w' (write), 'a' (append), 'rb' (read binary), etc."
      ],
      "metadata": {
        "id": "mx0qx0I3dwB0"
      }
    },
    {
      "cell_type": "code",
      "source": [
        "with open('example.txt', 'w') as file:\n",
        "    file.write(\"Hello, World!\")\n"
      ],
      "metadata": {
        "id": "4UAKt6-reDNs"
      },
      "execution_count": 5,
      "outputs": []
    },
    {
      "cell_type": "markdown",
      "source": [
        "**OOP Implementation**"
      ],
      "metadata": {
        "id": "24839M9WeMHh"
      }
    },
    {
      "cell_type": "markdown",
      "source": [
        "Q1. What is Object-Oriented Programming (OOP)?\n",
        "\n",
        "\n",
        "Object-Oriented Programming (OOP) is a programming paradigm centered around the concept of \"objects,\" which are instances of classes. OOP organizes software design by bundling data (attributes) and methods (functions) together within these objects, enabling more modular, reusable, and manageable code. The four key principles of OOP are:\n",
        "\n",
        "**Encapsulation**:\n",
        "\n",
        "- Bundles data and methods that operate on that data within an object, restricting access to some of the object's components. This protects the internal state and prevents direct modification from outside, ensuring controlled interaction through public methods (getters, setters).\n",
        "- Example: Private variables in a class that can only be accessed through methods.\n",
        "\n",
        "**Abstraction**:\n",
        "\n",
        "- Hides complex implementation details and exposes only essential features or behavior of an object. It reduces complexity by allowing users to interact with a simplified interface.\n",
        "- Example: A Car class exposing methods like drive() without showing the internal engine mechanics.\n",
        "\n",
        "**Inheritance**:\n",
        "\n",
        "- Allows a class (subclass/child) to inherit properties and methods from another class (superclass/parent), promoting code reuse and extending functionality.\n",
        "- Example: A Dog class inheriting from a generic Animal class, gaining common behaviors but also adding its own.\n",
        "\n",
        "**Polymorphism**:\n",
        "\n",
        "- Allows objects of different classes to be treated as objects of a common superclass. It enables the same method to behave differently based on the object calling it.\n",
        "- Example: A speak() method that behaves differently for Dog and Cat objects.\n",
        "OOP encourages better organization, scalability, and maintainability by modeling real-world entities and relationships in software systems."
      ],
      "metadata": {
        "id": "eRpH5zzWeR8s"
      }
    },
    {
      "cell_type": "markdown",
      "source": [
        "Q2. What is a class and an object in Python?\n",
        "\n",
        "A class is a blueprint for creating objects, and an object is an instance of a class."
      ],
      "metadata": {
        "id": "oc3VjbDle92g"
      }
    },
    {
      "cell_type": "code",
      "source": [
        "class Car:\n",
        "    def __init__(self, model):\n",
        "        self.model = model\n",
        "\n",
        "car1 = Car(\"Toyota\")\n"
      ],
      "metadata": {
        "id": "QscPsebUfFNQ"
      },
      "execution_count": 6,
      "outputs": []
    },
    {
      "cell_type": "markdown",
      "source": [
        "Q3. How do you create a class in Python?\n",
        "\n",
        "We create using the **class** keyword."
      ],
      "metadata": {
        "id": "atcnVEaifM7k"
      }
    },
    {
      "cell_type": "code",
      "source": [
        "class Dog:\n",
        "    def bark(self):\n",
        "        print(\"Woof!\")\n"
      ],
      "metadata": {
        "id": "s1p3oLH1fW0q"
      },
      "execution_count": 7,
      "outputs": []
    },
    {
      "cell_type": "markdown",
      "source": [
        "Q4. What are instance variables and class variables?\n",
        "\n",
        "- Instance variables are specific to an object.\n",
        "- Class variables are shared across all instances."
      ],
      "metadata": {
        "id": "k9GQ6_Lmfc1_"
      }
    },
    {
      "cell_type": "code",
      "source": [
        "class Person:\n",
        "    species = \"Human\"  # Class variable\n",
        "    def __init__(self, name):\n",
        "        self.name = name  # Instance variable\n"
      ],
      "metadata": {
        "id": "UHLBsActfkru"
      },
      "execution_count": null,
      "outputs": []
    },
    {
      "cell_type": "markdown",
      "source": [
        "Q5. What is the purpose of the __init__ method?\n",
        "\n",
        "__init__ is the constructor that initializes an object’s attributes."
      ],
      "metadata": {
        "id": "urUpSpe1fo0w"
      }
    },
    {
      "cell_type": "code",
      "source": [
        "class Student:\n",
        "    def __init__(self, name):\n",
        "        self.name = name\n"
      ],
      "metadata": {
        "id": "o2YnNRu5fs3U"
      },
      "execution_count": null,
      "outputs": []
    },
    {
      "cell_type": "markdown",
      "source": [
        "Q6. What are self and cls?\n",
        "\n",
        "In Python, self and cls are special identifiers used in class methods to refer to the instance and the class itself, respectively.\n",
        "\n",
        "**self**:\n",
        "self refers to the current instance of the class. It is used to access instance variables and methods within the class.\n",
        "When an instance method is called, Python automatically passes the instance (object) as the first argument to the method, and self represents this instance.\n",
        "\n",
        "**cls**:\n",
        "cls refers to the class itself and is used in class methods. Class methods are declared using the @classmethod decorator, and Python automatically passes the class as the first argument.\n",
        "It allows access to class-level variables and methods."
      ],
      "metadata": {
        "id": "ApkKM6wNfuqG"
      }
    },
    {
      "cell_type": "code",
      "source": [
        "# self example\n",
        "\n",
        "class Car:\n",
        "    def __init__(self, model):\n",
        "        self.model = model  # Accessing instance variable using self\n",
        "\n",
        "    def show_model(self):\n",
        "        print(self.model)  # Accessing instance method using self\n",
        "\n",
        "car1 = Car(\"Toyota\")\n",
        "car1.show_model()  # Output: Toyota\n"
      ],
      "metadata": {
        "colab": {
          "base_uri": "https://localhost:8080/"
        },
        "id": "8E0GpJ1BgPLJ",
        "outputId": "d30566cf-370f-4a5d-90b5-b1d64b0fe558"
      },
      "execution_count": 8,
      "outputs": [
        {
          "output_type": "stream",
          "name": "stdout",
          "text": [
            "Toyota\n"
          ]
        }
      ]
    },
    {
      "cell_type": "code",
      "source": [
        "# cls example\n",
        "class Car:\n",
        "    brand = \"Generic\"  # Class variable\n",
        "\n",
        "    @classmethod\n",
        "    def set_brand(cls, new_brand):\n",
        "        cls.brand = new_brand  # Accessing class variable using cls\n",
        "\n",
        "Car.set_brand(\"Toyota\")\n",
        "print(Car.brand)  # Output: Toyota\n"
      ],
      "metadata": {
        "colab": {
          "base_uri": "https://localhost:8080/"
        },
        "id": "2Y7edUpegSZX",
        "outputId": "76c503c6-74e0-4040-9178-672fb78aaa00"
      },
      "execution_count": 9,
      "outputs": [
        {
          "output_type": "stream",
          "name": "stdout",
          "text": [
            "Toyota\n"
          ]
        }
      ]
    },
    {
      "cell_type": "markdown",
      "source": [
        "Q7. What is inheritance?\n",
        "\n",
        "Inheritance allows a class to inherit attributes and methods from another class.\n",
        "There are different types of Inheritance:\n",
        "- Single Inheritance: A subclass inherits from one parent class.\n",
        "- Multiple Inheritance: A subclass inherits from more than one parent class.\n",
        "- Multilevel Inheritance: A subclass inherits from a class that is itself a subclass.\n",
        "- Hierarchical Inheritance: Multiple subclasses inherit from a single parent class.\n",
        "- Hybrid Inheritance: A combination of two or more types of inheritance (e.g., multiple and multilevel)."
      ],
      "metadata": {
        "id": "Gn7HkrhfggYB"
      }
    },
    {
      "cell_type": "code",
      "source": [
        "class Parent:\n",
        "    def speak(self):\n",
        "        print(\"Hello!\")\n",
        "\n",
        "class Child(Parent):\n",
        "    pass\n",
        "\n",
        "child = Child()\n",
        "child.speak()  # Inherits method from Parent\n"
      ],
      "metadata": {
        "colab": {
          "base_uri": "https://localhost:8080/"
        },
        "id": "Y4UzTOOhg1-m",
        "outputId": "0ba7975e-29d7-48e1-d752-096ccd094998"
      },
      "execution_count": 10,
      "outputs": [
        {
          "output_type": "stream",
          "name": "stdout",
          "text": [
            "Hello!\n"
          ]
        }
      ]
    },
    {
      "cell_type": "markdown",
      "source": [
        "Q8. Explain method overriding and method overloading.\n",
        "\n",
        "- Method overriding: A subclass modifies a method from the parent class.\n",
        "- Method overloading: Python doesn’t support it directly, but can be achieved using default arguments."
      ],
      "metadata": {
        "id": "qe4v-urvg9yZ"
      }
    },
    {
      "cell_type": "code",
      "source": [
        "# method overriding\n",
        "class Parent:\n",
        "    def show(self):\n",
        "        print(\"Parent\")\n",
        "\n",
        "class Child(Parent):\n",
        "    def show(self):\n",
        "        print(\"Child\")\n",
        "\n",
        "child = Child()\n",
        "child.show()  # Overrides method from Parent\n"
      ],
      "metadata": {
        "colab": {
          "base_uri": "https://localhost:8080/"
        },
        "id": "8FYxTq3chDjP",
        "outputId": "3cf66482-d95f-4757-e124-f8db780d9f18"
      },
      "execution_count": 12,
      "outputs": [
        {
          "output_type": "stream",
          "name": "stdout",
          "text": [
            "Child\n"
          ]
        }
      ]
    },
    {
      "cell_type": "code",
      "source": [
        "# method overloading\n",
        "class Calculator:\n",
        "    def add(self, a, b=None):\n",
        "        if b is None:\n",
        "            return a\n",
        "        else:\n",
        "            return a + b\n",
        "\n",
        "calculator = Calculator()\n",
        "print(calculator.add(5))  # Prints 5\n",
        "print(calculator.add(5, 3))  # Prints 8"
      ],
      "metadata": {
        "colab": {
          "base_uri": "https://localhost:8080/"
        },
        "id": "ArGGVcFOhJL_",
        "outputId": "0a1c6a42-5781-49c8-fe71-f16171eb1fe2"
      },
      "execution_count": 11,
      "outputs": [
        {
          "output_type": "stream",
          "name": "stdout",
          "text": [
            "5\n",
            "8\n"
          ]
        }
      ]
    },
    {
      "cell_type": "markdown",
      "source": [
        "Q9. What is multiple inheritance? How does Python handle it?\n",
        "\n",
        "Multiple inheritance allows a class to inherit from multiple classes. Python resolves method conflicts using the Method Resolution Order (MRO)."
      ],
      "metadata": {
        "id": "nmc95WOPhY-c"
      }
    },
    {
      "cell_type": "code",
      "source": [
        "class A:\n",
        "    def show(self):\n",
        "        print(\"A\")\n",
        "\n",
        "class B:\n",
        "    def show(self):\n",
        "        print(\"B\")\n",
        "\n",
        "class C(A, B):\n",
        "    pass\n",
        "\n"
      ],
      "metadata": {
        "id": "7Hi4cLZghdqX"
      },
      "execution_count": 13,
      "outputs": []
    },
    {
      "cell_type": "markdown",
      "source": [
        "Q10.  What are abstract classes and interfaces in Python?\n",
        "\n",
        "In Python, abstract classes and interfaces define a blueprint for other classes to follow, enforcing a structure without providing a full implementation.\n",
        "\n",
        "**Abstract Classes**:\n",
        "Abstract classes are defined using the abc (Abstract Base Classes) module.\n",
        "They can have one or more abstract methods, which are methods that are declared but contain no implementation.\n",
        "Subclasses must implement all abstract methods in order to be instantiated.\n",
        "Abstract classes can also have regular methods with implementations.\n",
        "\n",
        "**Interfaces (via Abstract Classes)**:\n",
        "Python doesn’t have a separate keyword for interfaces like some other languages (e.g., Java).\n",
        "In Python, an interface can be mimicked using an abstract class with only abstract methods (i.e., no implemented methods)."
      ],
      "metadata": {
        "id": "5KqwN-xShsU6"
      }
    },
    {
      "cell_type": "code",
      "source": [
        "#abstract method\n",
        "from abc import ABC, abstractmethod\n",
        "\n",
        "class Animal(ABC):\n",
        "    @abstractmethod\n",
        "    def sound(self):\n",
        "        pass\n",
        "\n",
        "class Dog(Animal):\n",
        "    def sound(self):\n",
        "        return \"Bark\"\n",
        "dog = Dog()\n",
        "print(dog.sound())  # Output: Bark\n"
      ],
      "metadata": {
        "id": "htNts18_h7Dm"
      },
      "execution_count": 14,
      "outputs": []
    },
    {
      "cell_type": "code",
      "source": [
        "#interface\n",
        "class Vehicle(ABC):\n",
        "    @abstractmethod\n",
        "    def drive(self):\n",
        "        pass\n",
        "\n",
        "class Car(Vehicle):\n",
        "    def drive(self):\n",
        "        return \"Driving a car\"\n",
        "\n",
        "class Bike(Vehicle):\n",
        "    def drive(self):\n",
        "        return \"Riding a bike\"\n",
        "\n",
        "car = Car()\n",
        "bike = Bike()\n",
        "print(car.drive())  # Output: Driving a car\n",
        "print(bike.drive())  # Output: Riding a bike\n"
      ],
      "metadata": {
        "colab": {
          "base_uri": "https://localhost:8080/"
        },
        "id": "Nkd90spoh_nY",
        "outputId": "512f8db7-78b0-4de1-db4e-89d47d3421d1"
      },
      "execution_count": 16,
      "outputs": [
        {
          "output_type": "stream",
          "name": "stdout",
          "text": [
            "Driving a car\n",
            "Riding a bike\n"
          ]
        }
      ]
    },
    {
      "cell_type": "markdown",
      "source": [
        "Q11. What is polymorphism in Python?\n",
        "\n",
        "Polymorphism allows objects of different classes to be treated as instances of the same class through a common interface."
      ],
      "metadata": {
        "id": "fXp55ayYin_-"
      }
    },
    {
      "cell_type": "code",
      "source": [
        "class Cat:\n",
        "    def sound(self):\n",
        "        print(\"Meow\")\n",
        "\n",
        "class Dog:\n",
        "    def sound(self):\n",
        "        print(\"Woof\")\n",
        "\n",
        "for animal in [Cat(), Dog()]:\n",
        "    animal.sound()\n"
      ],
      "metadata": {
        "colab": {
          "base_uri": "https://localhost:8080/"
        },
        "id": "oWezPsiIiqgF",
        "outputId": "d1d09a6e-f94a-41df-fcec-c6bfa129ef31"
      },
      "execution_count": 17,
      "outputs": [
        {
          "output_type": "stream",
          "name": "stdout",
          "text": [
            "Meow\n",
            "Woof\n"
          ]
        }
      ]
    },
    {
      "cell_type": "markdown",
      "source": [
        "Q12. What is encapsulation in OOP?\n",
        "\n",
        "Encapsulation restricts access to certain details of an object and provides public methods to interact with it."
      ],
      "metadata": {
        "id": "_aaaQ9Zrivji"
      }
    },
    {
      "cell_type": "code",
      "source": [
        "class BankAccount:\n",
        "    def __init__(self, balance):\n",
        "        self.__balance = balance  # Private variable\n",
        "\n",
        "    def get_balance(self):\n",
        "        return self.__balance\n",
        "\n",
        "    def deposit(self, amount):\n",
        "        if amount > 0:\n",
        "            self.__balance += amount\n",
        "            return True\n",
        "        else:\n",
        "            return False\n",
        "\n",
        "account = BankAccount(1000)\n",
        "print(account.get_balance())  # Accessing private variable\n",
        "print(account.deposit(500))  # Depositing and printing new balance\n"
      ],
      "metadata": {
        "colab": {
          "base_uri": "https://localhost:8080/"
        },
        "id": "VSNvApooizDU",
        "outputId": "a171b6bc-2885-44fd-ced9-a74f58d2866b"
      },
      "execution_count": 22,
      "outputs": [
        {
          "output_type": "stream",
          "name": "stdout",
          "text": [
            "1000\n",
            "True\n"
          ]
        }
      ]
    },
    {
      "cell_type": "markdown",
      "source": [
        "Q13. What are getters and setters in Python?\n",
        "\n",
        "Getters and setters are methods used to access and update private variables, often defined using @property and @setter decorators."
      ],
      "metadata": {
        "id": "YwtQy3L5i-GO"
      }
    },
    {
      "cell_type": "code",
      "source": [
        "class Employee:\n",
        "    def __init__(self, salary):\n",
        "        self._salary = salary\n",
        "\n",
        "    @property\n",
        "    def salary(self):\n",
        "        return self._salary\n",
        "\n",
        "    @salary.setter\n",
        "    def salary(self, value):\n",
        "        self._salary = value\n",
        "\n",
        "employee = Employee(50000)\n",
        "print(employee.salary)  # Accessing salary using getter\n",
        "employee.salary = 60000  # Updating salary using setter\n"
      ],
      "metadata": {
        "colab": {
          "base_uri": "https://localhost:8080/"
        },
        "id": "co2wKJFRjBeR",
        "outputId": "f01763b2-1d2a-4971-84fd-64f5b8227df7"
      },
      "execution_count": 21,
      "outputs": [
        {
          "output_type": "stream",
          "name": "stdout",
          "text": [
            "50000\n"
          ]
        }
      ]
    },
    {
      "cell_type": "markdown",
      "source": [
        "Q14. How do you implement operator overloading in Python?\n",
        "\n",
        "You can overload operators by defining special methods like __add__, __sub__, etc."
      ],
      "metadata": {
        "id": "RQ53Q8Q2jKCh"
      }
    },
    {
      "cell_type": "code",
      "source": [
        "class Number:\n",
        "    def __init__(self, value):\n",
        "        self.value = value\n",
        "\n",
        "    def __add__(self, other):\n",
        "        return self.value + other.value\n",
        "\n",
        "num1 = Number(5)\n",
        "num2 = Number(10)\n",
        "result = num1 + num2\n",
        "print(result)  # Output: 15"
      ],
      "metadata": {
        "colab": {
          "base_uri": "https://localhost:8080/"
        },
        "id": "i27BGXlGjNKp",
        "outputId": "a7ef1b33-730e-4e41-f1d5-18434c06dd6d"
      },
      "execution_count": 20,
      "outputs": [
        {
          "output_type": "stream",
          "name": "stdout",
          "text": [
            "15\n"
          ]
        }
      ]
    },
    {
      "cell_type": "markdown",
      "source": [
        "Q15. What is a static method and a class method in Python?\n",
        "\n",
        "- Static methods don’t access or modify the class state.\n",
        "- Class methods receive the class (cls) as their first argument."
      ],
      "metadata": {
        "id": "cgZJfaAZjPvU"
      }
    },
    {
      "cell_type": "code",
      "source": [
        "class MyClass:\n",
        "    @staticmethod\n",
        "    def static_method():\n",
        "        print(\"Static method\")\n",
        "\n",
        "    @classmethod\n",
        "    def class_method(cls):\n",
        "        print(\"Class method\")\n",
        "\n",
        "MyClass.static_method()  # Output: Static method\n",
        "MyClass.class_method()  # Output: Class method"
      ],
      "metadata": {
        "colab": {
          "base_uri": "https://localhost:8080/"
        },
        "id": "aJqo6dVgjWAu",
        "outputId": "783cac60-dbc1-4264-b67a-95efa2680a8a"
      },
      "execution_count": 19,
      "outputs": [
        {
          "output_type": "stream",
          "name": "stdout",
          "text": [
            "Static method\n",
            "Class method\n"
          ]
        }
      ]
    }
  ]
}