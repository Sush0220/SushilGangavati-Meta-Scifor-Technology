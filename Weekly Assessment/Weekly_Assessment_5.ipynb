{
  "nbformat": 4,
  "nbformat_minor": 0,
  "metadata": {
    "colab": {
      "provenance": []
    },
    "kernelspec": {
      "name": "python3",
      "display_name": "Python 3"
    },
    "language_info": {
      "name": "python"
    }
  },
  "cells": [
    {
      "cell_type": "markdown",
      "source": [
        "1.Write a program of text processing"
      ],
      "metadata": {
        "id": "XT3JhXXooiYv"
      }
    },
    {
      "cell_type": "code",
      "execution_count": 5,
      "metadata": {
        "colab": {
          "base_uri": "https://localhost:8080/"
        },
        "id": "OWj4vt49ohNv",
        "outputId": "a2c15d92-acba-44ab-eada-b6fa28cc4d74"
      },
      "outputs": [
        {
          "output_type": "stream",
          "name": "stdout",
          "text": [
            "Counter({'hello': 2, 'this': 2, 'world': 1, 'is': 1, 'a': 1, 'test': 1, 'again': 1, 'sushil': 1, 'gangavati': 1, 'side': 1})\n"
          ]
        }
      ],
      "source": [
        "import re\n",
        "from collections import Counter\n",
        "\n",
        "def text_processing(text):\n",
        "    # Convert text to lowercase\n",
        "    text = text.lower()\n",
        "\n",
        "    # Remove punctuation and special characters\n",
        "    text = re.sub(r'[^a-z\\s]', '', text)\n",
        "\n",
        "    # Split text into words\n",
        "    words = text.split()\n",
        "\n",
        "    # Count frequency of each word\n",
        "    word_count = Counter(words)\n",
        "\n",
        "    return word_count\n",
        "\n",
        "# Example usage\n",
        "text = \"Hello, world! This is a test. Hello again! Sushil Gangavati this side!\"\n",
        "word_frequencies = text_processing(text)\n",
        "print(word_frequencies)\n"
      ]
    },
    {
      "cell_type": "markdown",
      "source": [
        "2.Write a program to implement NLP based upon spacy"
      ],
      "metadata": {
        "id": "VFIm9nQtoz8P"
      }
    },
    {
      "cell_type": "code",
      "source": [
        "import spacy\n",
        "\n",
        "# Load the English model\n",
        "nlp = spacy.load(\"en_core_web_sm\")\n",
        "\n",
        "def nlp_processing(text):\n",
        "    # Process the text using SpaCy\n",
        "    doc = nlp(text)\n",
        "\n",
        "    # Extract named entities\n",
        "    entities = [(ent.text, ent.label_) for ent in doc.ents]\n",
        "\n",
        "    return entities\n",
        "\n",
        "# Example usage\n",
        "text = \"Barack Obama was born in Hawaii. He was elected president in 2008.\"\n",
        "entities = nlp_processing(text)\n",
        "print(entities)\n"
      ],
      "metadata": {
        "colab": {
          "base_uri": "https://localhost:8080/"
        },
        "id": "HAIqSUw0oy5W",
        "outputId": "24064f99-6d00-47dd-913d-4c100f70bd7e"
      },
      "execution_count": 2,
      "outputs": [
        {
          "output_type": "stream",
          "name": "stdout",
          "text": [
            "[('Barack Obama', 'PERSON'), ('Hawaii', 'GPE'), ('2008', 'DATE')]\n"
          ]
        }
      ]
    },
    {
      "cell_type": "markdown",
      "source": [
        "Difference between descriptive and inferential statistics. Write down atleast 10-15 differences"
      ],
      "metadata": {
        "id": "egB7W6VFo_CQ"
      }
    },
    {
      "cell_type": "markdown",
      "source": [
        "**Descriptive Statistics**:\n",
        "\n",
        "- Summarizes or describes a dataset.\n",
        "- Provides simple summaries about the sample and the measures.\n",
        "- Includes measures like mean, median, mode, standard deviation, etc.\n",
        "- Does not involve generalizing beyond the data at hand.\n",
        "- Focuses on presenting the data in an understandable form.\n",
        "- Examples include charts, graphs, tables, and descriptive measures.\n",
        "- Deals with raw data without making predictions or inferences.\n",
        "- It is concerned with \"what is\" in the dataset.\n",
        "- Used for summarizing large amounts of data in a simple way.\n",
        "- It answers questions like \"What happened?\"\n",
        "\n",
        "**Inferential Statistics**:\n",
        "\n",
        "- Makes predictions or inferences about a population based on a sample.\n",
        "- Involves hypothesis testing and estimation.\n",
        "- Uses probability theory to make conclusions.\n",
        "- Generalizes findings from a sample to a larger population.\n",
        "- Deals with uncertainty and variability.\n",
        "- Examples include t-tests, ANOVA, regression analysis, etc.\n",
        "- Involves making forecasts or predictions.\n",
        "- It is concerned with \"what could be\" in the population.\n",
        "- Used for testing theories or hypotheses.\n",
        "- Answers questions like \"What might happen?\""
      ],
      "metadata": {
        "id": "O8RT1SCApaef"
      }
    }
  ]
}