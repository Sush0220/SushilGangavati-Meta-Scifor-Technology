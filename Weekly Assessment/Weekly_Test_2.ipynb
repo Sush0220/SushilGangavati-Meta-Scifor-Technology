{
  "nbformat": 4,
  "nbformat_minor": 0,
  "metadata": {
    "colab": {
      "provenance": []
    },
    "kernelspec": {
      "name": "python3",
      "display_name": "Python 3"
    },
    "language_info": {
      "name": "python"
    }
  },
  "cells": [
    {
      "cell_type": "code",
      "source": [
        "!pip install streamlit"
      ],
      "metadata": {
        "colab": {
          "base_uri": "https://localhost:8080/"
        },
        "id": "Y70tjDDLh21X",
        "outputId": "38e77147-4ba9-46db-a6cf-4c22c72f10b5"
      },
      "execution_count": 8,
      "outputs": [
        {
          "output_type": "stream",
          "name": "stdout",
          "text": [
            "Collecting streamlit\n",
            "  Downloading streamlit-1.39.0-py2.py3-none-any.whl.metadata (8.5 kB)\n",
            "Requirement already satisfied: altair<6,>=4.0 in /usr/local/lib/python3.10/dist-packages (from streamlit) (4.2.2)\n",
            "Requirement already satisfied: blinker<2,>=1.0.0 in /usr/lib/python3/dist-packages (from streamlit) (1.4)\n",
            "Requirement already satisfied: cachetools<6,>=4.0 in /usr/local/lib/python3.10/dist-packages (from streamlit) (5.5.0)\n",
            "Requirement already satisfied: click<9,>=7.0 in /usr/local/lib/python3.10/dist-packages (from streamlit) (8.1.7)\n",
            "Requirement already satisfied: numpy<3,>=1.20 in /usr/local/lib/python3.10/dist-packages (from streamlit) (1.26.4)\n",
            "Requirement already satisfied: packaging<25,>=20 in /usr/local/lib/python3.10/dist-packages (from streamlit) (24.1)\n",
            "Requirement already satisfied: pandas<3,>=1.4.0 in /usr/local/lib/python3.10/dist-packages (from streamlit) (2.2.2)\n",
            "Requirement already satisfied: pillow<11,>=7.1.0 in /usr/local/lib/python3.10/dist-packages (from streamlit) (10.4.0)\n",
            "Requirement already satisfied: protobuf<6,>=3.20 in /usr/local/lib/python3.10/dist-packages (from streamlit) (3.20.3)\n",
            "Requirement already satisfied: pyarrow>=7.0 in /usr/local/lib/python3.10/dist-packages (from streamlit) (16.1.0)\n",
            "Requirement already satisfied: requests<3,>=2.27 in /usr/local/lib/python3.10/dist-packages (from streamlit) (2.32.3)\n",
            "Requirement already satisfied: rich<14,>=10.14.0 in /usr/local/lib/python3.10/dist-packages (from streamlit) (13.9.3)\n",
            "Requirement already satisfied: tenacity<10,>=8.1.0 in /usr/local/lib/python3.10/dist-packages (from streamlit) (9.0.0)\n",
            "Requirement already satisfied: toml<2,>=0.10.1 in /usr/local/lib/python3.10/dist-packages (from streamlit) (0.10.2)\n",
            "Requirement already satisfied: typing-extensions<5,>=4.3.0 in /usr/local/lib/python3.10/dist-packages (from streamlit) (4.12.2)\n",
            "Requirement already satisfied: gitpython!=3.1.19,<4,>=3.0.7 in /usr/local/lib/python3.10/dist-packages (from streamlit) (3.1.43)\n",
            "Collecting pydeck<1,>=0.8.0b4 (from streamlit)\n",
            "  Downloading pydeck-0.9.1-py2.py3-none-any.whl.metadata (4.1 kB)\n",
            "Requirement already satisfied: tornado<7,>=6.0.3 in /usr/local/lib/python3.10/dist-packages (from streamlit) (6.3.3)\n",
            "Collecting watchdog<6,>=2.1.5 (from streamlit)\n",
            "  Downloading watchdog-5.0.3-py3-none-manylinux2014_x86_64.whl.metadata (41 kB)\n",
            "\u001b[2K     \u001b[90m━━━━━━━━━━━━━━━━━━━━━━━━━━━━━━━━━━━━━━━━\u001b[0m \u001b[32m41.9/41.9 kB\u001b[0m \u001b[31m2.1 MB/s\u001b[0m eta \u001b[36m0:00:00\u001b[0m\n",
            "\u001b[?25hRequirement already satisfied: entrypoints in /usr/local/lib/python3.10/dist-packages (from altair<6,>=4.0->streamlit) (0.4)\n",
            "Requirement already satisfied: jinja2 in /usr/local/lib/python3.10/dist-packages (from altair<6,>=4.0->streamlit) (3.1.4)\n",
            "Requirement already satisfied: jsonschema>=3.0 in /usr/local/lib/python3.10/dist-packages (from altair<6,>=4.0->streamlit) (4.23.0)\n",
            "Requirement already satisfied: toolz in /usr/local/lib/python3.10/dist-packages (from altair<6,>=4.0->streamlit) (0.12.1)\n",
            "Requirement already satisfied: gitdb<5,>=4.0.1 in /usr/local/lib/python3.10/dist-packages (from gitpython!=3.1.19,<4,>=3.0.7->streamlit) (4.0.11)\n",
            "Requirement already satisfied: python-dateutil>=2.8.2 in /usr/local/lib/python3.10/dist-packages (from pandas<3,>=1.4.0->streamlit) (2.8.2)\n",
            "Requirement already satisfied: pytz>=2020.1 in /usr/local/lib/python3.10/dist-packages (from pandas<3,>=1.4.0->streamlit) (2024.2)\n",
            "Requirement already satisfied: tzdata>=2022.7 in /usr/local/lib/python3.10/dist-packages (from pandas<3,>=1.4.0->streamlit) (2024.2)\n",
            "Requirement already satisfied: charset-normalizer<4,>=2 in /usr/local/lib/python3.10/dist-packages (from requests<3,>=2.27->streamlit) (3.4.0)\n",
            "Requirement already satisfied: idna<4,>=2.5 in /usr/local/lib/python3.10/dist-packages (from requests<3,>=2.27->streamlit) (3.10)\n",
            "Requirement already satisfied: urllib3<3,>=1.21.1 in /usr/local/lib/python3.10/dist-packages (from requests<3,>=2.27->streamlit) (2.2.3)\n",
            "Requirement already satisfied: certifi>=2017.4.17 in /usr/local/lib/python3.10/dist-packages (from requests<3,>=2.27->streamlit) (2024.8.30)\n",
            "Requirement already satisfied: markdown-it-py>=2.2.0 in /usr/local/lib/python3.10/dist-packages (from rich<14,>=10.14.0->streamlit) (3.0.0)\n",
            "Requirement already satisfied: pygments<3.0.0,>=2.13.0 in /usr/local/lib/python3.10/dist-packages (from rich<14,>=10.14.0->streamlit) (2.18.0)\n",
            "Requirement already satisfied: smmap<6,>=3.0.1 in /usr/local/lib/python3.10/dist-packages (from gitdb<5,>=4.0.1->gitpython!=3.1.19,<4,>=3.0.7->streamlit) (5.0.1)\n",
            "Requirement already satisfied: MarkupSafe>=2.0 in /usr/local/lib/python3.10/dist-packages (from jinja2->altair<6,>=4.0->streamlit) (3.0.2)\n",
            "Requirement already satisfied: attrs>=22.2.0 in /usr/local/lib/python3.10/dist-packages (from jsonschema>=3.0->altair<6,>=4.0->streamlit) (24.2.0)\n",
            "Requirement already satisfied: jsonschema-specifications>=2023.03.6 in /usr/local/lib/python3.10/dist-packages (from jsonschema>=3.0->altair<6,>=4.0->streamlit) (2024.10.1)\n",
            "Requirement already satisfied: referencing>=0.28.4 in /usr/local/lib/python3.10/dist-packages (from jsonschema>=3.0->altair<6,>=4.0->streamlit) (0.35.1)\n",
            "Requirement already satisfied: rpds-py>=0.7.1 in /usr/local/lib/python3.10/dist-packages (from jsonschema>=3.0->altair<6,>=4.0->streamlit) (0.20.0)\n",
            "Requirement already satisfied: mdurl~=0.1 in /usr/local/lib/python3.10/dist-packages (from markdown-it-py>=2.2.0->rich<14,>=10.14.0->streamlit) (0.1.2)\n",
            "Requirement already satisfied: six>=1.5 in /usr/local/lib/python3.10/dist-packages (from python-dateutil>=2.8.2->pandas<3,>=1.4.0->streamlit) (1.16.0)\n",
            "Downloading streamlit-1.39.0-py2.py3-none-any.whl (8.7 MB)\n",
            "\u001b[2K   \u001b[90m━━━━━━━━━━━━━━━━━━━━━━━━━━━━━━━━━━━━━━━━\u001b[0m \u001b[32m8.7/8.7 MB\u001b[0m \u001b[31m44.0 MB/s\u001b[0m eta \u001b[36m0:00:00\u001b[0m\n",
            "\u001b[?25hDownloading pydeck-0.9.1-py2.py3-none-any.whl (6.9 MB)\n",
            "\u001b[2K   \u001b[90m━━━━━━━━━━━━━━━━━━━━━━━━━━━━━━━━━━━━━━━━\u001b[0m \u001b[32m6.9/6.9 MB\u001b[0m \u001b[31m60.3 MB/s\u001b[0m eta \u001b[36m0:00:00\u001b[0m\n",
            "\u001b[?25hDownloading watchdog-5.0.3-py3-none-manylinux2014_x86_64.whl (79 kB)\n",
            "\u001b[2K   \u001b[90m━━━━━━━━━━━━━━━━━━━━━━━━━━━━━━━━━━━━━━━━\u001b[0m \u001b[32m79.3/79.3 kB\u001b[0m \u001b[31m4.7 MB/s\u001b[0m eta \u001b[36m0:00:00\u001b[0m\n",
            "\u001b[?25hInstalling collected packages: watchdog, pydeck, streamlit\n",
            "Successfully installed pydeck-0.9.1 streamlit-1.39.0 watchdog-5.0.3\n"
          ]
        }
      ]
    },
    {
      "cell_type": "markdown",
      "source": [
        "1. What are decorators in python? Provide a code of same\n",
        "\n",
        "In Python, decorators are a way to modify or enhance the behavior of functions or methods without changing their actual code. They are typically used to wrap another function to add additional functionality before or after the function runs, or even to modify its output.\n",
        "A decorator is a function that takes another function as an argument, does some processing with it, and returns a modified function. Decorators are commonly used for logging, access control, memoization, and other cross-cutting concerns.\n"
      ],
      "metadata": {
        "id": "AZ_pUaVbe9NU"
      }
    },
    {
      "cell_type": "code",
      "source": [
        "# Define the decorator\n",
        "def my_decorator(func):\n",
        "    def wrapper():\n",
        "        print(\"Something is happening before the function is called.\")\n",
        "        func()\n",
        "        print(\"Something is happening after the function is called.\")\n",
        "    return wrapper\n",
        "\n",
        "# Use the decorator\n",
        "@my_decorator\n",
        "def say_hello():\n",
        "    print(\"Hello!\")\n",
        "\n",
        "# Call the decorated function\n",
        "say_hello()\n"
      ],
      "metadata": {
        "colab": {
          "base_uri": "https://localhost:8080/"
        },
        "id": "tSAY3M4ifDFW",
        "outputId": "a1858cd4-34c8-41f2-a37b-1f86e6e5cc86"
      },
      "execution_count": 1,
      "outputs": [
        {
          "output_type": "stream",
          "name": "stdout",
          "text": [
            "Something is happening before the function is called.\n",
            "Hello!\n",
            "Something is happening after the function is called.\n"
          ]
        }
      ]
    },
    {
      "cell_type": "markdown",
      "source": [
        "2. What do you understand by method overriding and method overloading? Give the complete implementation.\n",
        "\n",
        "Method Overriding and Method Overloading are both forms of polymorphism in object-oriented programming. However, they differ in purpose and implementation.\n",
        "\n",
        "**Method Overriding**:\n",
        "Occurs when a subclass provides a specific implementation of a method that is already defined in its superclass.\n",
        "Used to change or extend the behavior of the inherited method to fit the subclass.\n",
        "The method in the subclass must have the same name, parameters, and return type as the one in the superclass.\n",
        "\n",
        "**Method Overloading**:\n",
        "Occurs when multiple methods with the same name exist within the same class, but with different parameter lists.\n",
        "Allows us to perform different tasks with the same method name.\n",
        "Python does not support traditional method overloading as in other languages like Java or C++. Instead, it can be implemented using default arguments or args.\n",
        "\n"
      ],
      "metadata": {
        "id": "8c_fFJT0fHkq"
      }
    },
    {
      "cell_type": "code",
      "source": [
        "# Method Overriding example\n",
        "class Animal:\n",
        "    def sound(self):\n",
        "        return \"Some generic animal sound\"\n",
        "\n",
        "class Dog(Animal):\n",
        "    def sound(self):\n",
        "        return \"Bark\"  # Overriding the 'sound' method of the Animal class\n",
        "\n",
        "# Method Overloading example using default arguments\n",
        "class Calculator:\n",
        "    def add(self, a, b, c=0):\n",
        "        return a + b + c  # Adding two or three numbers\n",
        "\n",
        "# Testing Method Overriding\n",
        "animal = Animal()\n",
        "dog = Dog()\n",
        "print(animal.sound())  # Output: Some generic animal sound\n",
        "print(dog.sound())     # Output: Bark\n",
        "\n",
        "# Testing Method Overloading\n",
        "calculator = Calculator()\n",
        "print(calculator.add(5, 10))       # Output: 15 (adding two numbers)\n",
        "print(calculator.add(5, 10, 15))   # Output: 30 (adding three numbers)\n"
      ],
      "metadata": {
        "colab": {
          "base_uri": "https://localhost:8080/"
        },
        "id": "nWWz2U4jffSh",
        "outputId": "9273fa10-b651-4255-ce6b-7dd0b5bdcb26"
      },
      "execution_count": 2,
      "outputs": [
        {
          "output_type": "stream",
          "name": "stdout",
          "text": [
            "Some generic animal sound\n",
            "Bark\n",
            "15\n",
            "30\n"
          ]
        }
      ]
    },
    {
      "cell_type": "markdown",
      "source": [
        "3. Code for hybrid inheritance\n"
      ],
      "metadata": {
        "id": "VLB2CvP3fjf-"
      }
    },
    {
      "cell_type": "code",
      "source": [
        "# Base class\n",
        "class Animal:\n",
        "    def speak(self):\n",
        "        return \"Animal sound\"\n",
        "\n",
        "# First level of inheritance (single inheritance)\n",
        "class Mammal(Animal):\n",
        "    def has_fur(self):\n",
        "        return True\n",
        "\n",
        "# Another class that inherits from the base class Animal (multiple inheritance)\n",
        "class Bird(Animal):\n",
        "    def can_fly(self):\n",
        "        return True\n",
        "\n",
        "# Class inheriting from both Mammal and Bird classes (hybrid inheritance)\n",
        "class Bat(Mammal, Bird):\n",
        "    def sound(self):\n",
        "        return \"Screech\"\n",
        "\n",
        "# Testing the hybrid inheritance\n",
        "bat = Bat()\n",
        "print(bat.speak())       # Inherited from Animal\n",
        "print(bat.has_fur())     # Inherited from Mammal\n",
        "print(bat.can_fly())     # Inherited from Bird\n",
        "print(bat.sound())       # Defined in Bat\n"
      ],
      "metadata": {
        "colab": {
          "base_uri": "https://localhost:8080/"
        },
        "id": "--JIHuc6fm-y",
        "outputId": "901f1cca-6ec5-4769-9aa1-fbfc4836e0ce"
      },
      "execution_count": 3,
      "outputs": [
        {
          "output_type": "stream",
          "name": "stdout",
          "text": [
            "Animal sound\n",
            "True\n",
            "True\n",
            "Screech\n"
          ]
        }
      ]
    },
    {
      "cell_type": "markdown",
      "source": [
        "4. Explain about the time complexity and space complexity of stacks, queues, Linked list\n",
        "\n",
        "**Stack**\n",
        "\n",
        "**Time Complexity**:\n",
        "- Push: O(1) - Adding an element at the top takes constant time.\n",
        "- Pop: O(1) - Removing the top element also takes constant time.\n",
        "- Peek: O(1) - Viewing the top element is a constant-time operation.\n",
        "\n",
        "**Space Complexity**:\n",
        "- If the stack holds n elements, the space complexity is O(n).\n",
        "\n",
        "**Queue**\n",
        "\n",
        "**Time Complexity**:\n",
        "- Enqueue: O(1) - Adding an element at the end is a constant-time operation.\n",
        "- Dequeue: O(1) - Removing an element from the front also takes constant time.\n",
        "**Space Complexity**:\n",
        "- For n elements, the space complexity is O(n).\n",
        "\n",
        "**Linked List**\n",
        "\n",
        "**Time Complexity**:\n",
        "\n",
        "\n",
        "- Accessing by Index: O(n) - Accessing an element by index requires traversing the list, making it a linear-time operation.\n",
        "- Insertion (at the beginning or end): O(1) - Inserting an element at the beginning or the end of a linked list takes constant time if you have a pointer to the location.\n",
        "- Insertion (at an arbitrary position): O(n) - Inserting at a particular index requires traversing the list.\n",
        "- Deletion (at the beginning or end): O(1) - Removing the first or last node is a constant-time operation if the list is doubly linked.\n",
        "- Deletion (at an arbitrary position): O(n) - Deleting a node at a specific position requires traversal.\n",
        "\n",
        "**Space Complexity**:\n",
        "\n",
        "\n",
        "- For n elements, the space complexity is O(n), as each node holds data and a reference to the next node.\n",
        "- In a doubly linked list, each node has an additional pointer to the previous node, so space complexity is still O(n) but with slightly higher overhead due to extra pointers.\n"
      ],
      "metadata": {
        "id": "c2f4JraBfqsf"
      }
    },
    {
      "cell_type": "markdown",
      "source": [
        "5. Explain any 3 widgets in Streamlit\n",
        "\n",
        "Streamlit provides various widgets to build interactive applications, especially useful for data visualization and analysis. Here are three commonly used widgets in Streamlit:\n",
        "\n",
        "**st.slider**()\n",
        "- The st.slider widget allows users to select a numeric value (or range) within a defined range by sliding a handle. It's great for setting parameters in a user-friendly way, such as selecting a specific year, setting threshold values, or adjusting model parameters.\n",
        "- Syntax: st.slider(label, min_value, max_value, value, step)\n",
        "- Ex: age = st.slider(\"Select your age\", 0, 100, 25)\n",
        "\n",
        "**st.selectbox**()\n",
        "- The st.selectbox widget displays a dropdown menu of options. Users can select a single option from this list, making it ideal for displaying multiple categories or options when only one choice is needed.\n",
        "- Syntax: st.selectbox(label, options)\n",
        "- Ex: genre = st.selectbox(\"Choose a movie genre\", [\"Action\", \"Comedy\", \"Drama\", \"Horror\"])\n",
        "\n",
        "**st.text_input**()\n",
        "- The st.text_input widget allows users to input text data, which is often used to collect user feedback, search terms, or other short text inputs.\n",
        "- Syntax: st.text_input(label, value)\n",
        "- Ex: name = st.text_input(\"Enter your name\")\n",
        "\n"
      ],
      "metadata": {
        "id": "C-qqUoNqgOXf"
      }
    },
    {
      "cell_type": "markdown",
      "source": [
        "6. Explain session in Streamlit\n",
        "\n",
        "In Streamlit, a session refers to a user’s individual interaction with the app, from the time they open the app until they close it. Streamlit runs in a stateless mode by default, which means that each interaction triggers a rerun of the script from the top. To retain certain values or states across reruns within the same session, Streamlit provides a Session State object.\n",
        "Key Points about Session State in Streamlit\n",
        "- Session State:\n",
        "  - Session State allows you to store values between reruns of the app for a specific user session, such as user inputs, counters, and flags.\n",
        "It is a dictionary-like object where you can store, retrieve, and update values.\n",
        "- Usage:\n",
        "  - Common use cases include tracking form submissions, retaining toggle states, and handling multi-step forms.\n",
        "  - st.session_state is accessible and editable throughout the app.\n"
      ],
      "metadata": {
        "id": "qXyjMXcuguSN"
      }
    },
    {
      "cell_type": "code",
      "source": [
        "import streamlit as st\n",
        "\n",
        "# Initialize a session state variable\n",
        "if 'count' not in st.session_state:\n",
        "    st.session_state.count = 0\n",
        "\n",
        "# Increment the count\n",
        "if st.button(\"Increment\"):\n",
        "    st.session_state.count += 1\n",
        "\n",
        "# Display the count\n",
        "st.write(f\"Count: {st.session_state.count}\")\n"
      ],
      "metadata": {
        "colab": {
          "base_uri": "https://localhost:8080/"
        },
        "id": "kKjZLrlEhQ4D",
        "outputId": "64d62221-a87e-4afd-fdd6-9f411f5beaa5"
      },
      "execution_count": 9,
      "outputs": [
        {
          "output_type": "stream",
          "name": "stderr",
          "text": [
            "2024-10-25 16:34:47.334 WARNING streamlit.runtime.scriptrunner_utils.script_run_context: Thread 'MainThread': missing ScriptRunContext! This warning can be ignored when running in bare mode.\n",
            "2024-10-25 16:34:47.337 WARNING streamlit.runtime.state.session_state_proxy: Session state does not function when running a script without `streamlit run`\n",
            "2024-10-25 16:34:47.349 WARNING streamlit.runtime.scriptrunner_utils.script_run_context: Thread 'MainThread': missing ScriptRunContext! This warning can be ignored when running in bare mode.\n",
            "2024-10-25 16:34:47.357 WARNING streamlit.runtime.scriptrunner_utils.script_run_context: Thread 'MainThread': missing ScriptRunContext! This warning can be ignored when running in bare mode.\n",
            "2024-10-25 16:34:47.364 WARNING streamlit.runtime.scriptrunner_utils.script_run_context: Thread 'MainThread': missing ScriptRunContext! This warning can be ignored when running in bare mode.\n",
            "2024-10-25 16:34:47.381 WARNING streamlit.runtime.scriptrunner_utils.script_run_context: Thread 'MainThread': missing ScriptRunContext! This warning can be ignored when running in bare mode.\n",
            "2024-10-25 16:34:47.411 WARNING streamlit.runtime.scriptrunner_utils.script_run_context: Thread 'MainThread': missing ScriptRunContext! This warning can be ignored when running in bare mode.\n",
            "2024-10-25 16:34:47.419 WARNING streamlit.runtime.scriptrunner_utils.script_run_context: Thread 'MainThread': missing ScriptRunContext! This warning can be ignored when running in bare mode.\n",
            "2024-10-25 16:34:47.576 \n",
            "  \u001b[33m\u001b[1mWarning:\u001b[0m to view this Streamlit app on a browser, run it with the following\n",
            "  command:\n",
            "\n",
            "    streamlit run /usr/local/lib/python3.10/dist-packages/colab_kernel_launcher.py [ARGUMENTS]\n",
            "2024-10-25 16:34:47.585 Thread 'MainThread': missing ScriptRunContext! This warning can be ignored when running in bare mode.\n",
            "2024-10-25 16:34:47.592 Thread 'MainThread': missing ScriptRunContext! This warning can be ignored when running in bare mode.\n",
            "2024-10-25 16:34:47.599 Thread 'MainThread': missing ScriptRunContext! This warning can be ignored when running in bare mode.\n",
            "2024-10-25 16:34:47.603 Thread 'MainThread': missing ScriptRunContext! This warning can be ignored when running in bare mode.\n",
            "2024-10-25 16:34:47.613 Thread 'MainThread': missing ScriptRunContext! This warning can be ignored when running in bare mode.\n",
            "2024-10-25 16:34:47.618 Thread 'MainThread': missing ScriptRunContext! This warning can be ignored when running in bare mode.\n"
          ]
        }
      ]
    },
    {
      "cell_type": "markdown",
      "source": [
        "7. How will you run any file in Streamlit\n",
        "\n",
        "To run any file in streamlit, run the following command:\n",
        "- streamlit run app.py\n"
      ],
      "metadata": {
        "id": "hMuVwExIhUJN"
      }
    },
    {
      "cell_type": "markdown",
      "source": [
        "8. Plot graph such as bar chart, pie chart\n"
      ],
      "metadata": {
        "id": "900R8KwphZka"
      }
    },
    {
      "cell_type": "code",
      "source": [
        "# Bar Chart\n",
        "import matplotlib.pyplot as plt\n",
        "\n",
        "# Sample data for the bar chart\n",
        "categories = ['Category A', 'Category B', 'Category C', 'Category D']\n",
        "values = [10, 15, 7, 5]\n",
        "\n",
        "# Creating a bar chart\n",
        "plt.figure(figsize=(10, 5))  # Set the figure size\n",
        "plt.bar(categories, values, color='skyblue')  # Create bar chart\n",
        "plt.title('Bar Chart Example')  # Title of the chart\n",
        "plt.xlabel('Categories')  # X-axis label\n",
        "plt.ylabel('Values')  # Y-axis label\n",
        "plt.grid(axis='y', linestyle='--')  # Add gridlines\n",
        "plt.show()  # Display the bar chart\n",
        "\n",
        "\n"
      ],
      "metadata": {
        "colab": {
          "base_uri": "https://localhost:8080/",
          "height": 487
        },
        "id": "-QkkthLZhY2G",
        "outputId": "971eac82-47e0-4125-94f8-2463e9568e17"
      },
      "execution_count": 12,
      "outputs": [
        {
          "output_type": "display_data",
          "data": {
            "text/plain": [
              "<Figure size 1000x500 with 1 Axes>"
            ],
            "image/png": "[encoded data removed]"
          },
          "metadata": {}
        }
      ]
    },
    {
      "cell_type": "code",
      "source": [
        "#Pie Chart\n",
        "import matplotlib.pyplot as plt\n",
        "\n",
        "# Sample data\n",
        "labels = [\"Category A\", \"Category B\", \"Category C\", \"Category D\"]\n",
        "sizes = [15, 30, 45, 10]  # percentages\n",
        "colors = [\"#ff9999\", \"#66b3ff\", \"#99ff99\", \"#ffcc99\"]\n",
        "\n",
        "fig, ax = plt.subplots()\n",
        "ax.pie(sizes, labels=labels, colors=colors, autopct='%1.1f%%', startangle=90)\n",
        "ax.axis(\"equal\")\n"
      ],
      "metadata": {
        "colab": {
          "base_uri": "https://localhost:8080/",
          "height": 475
        },
        "id": "uGgu3ylVhdwd",
        "outputId": "43ab43d0-14a1-4ee4-9433-d90ebe4327c9"
      },
      "execution_count": 6,
      "outputs": [
        {
          "output_type": "execute_result",
          "data": {
            "text/plain": [
              "(-1.0999984679400356,\n",
              " 1.0999885916176226,\n",
              " -1.0999843660947275,\n",
              " 1.0999992555283205)"
            ]
          },
          "metadata": {},
          "execution_count": 6
        },
        {
          "output_type": "display_data",
          "data": {
            "text/plain": [
              "<Figure size 640x480 with 1 Axes>"
            ],
            "image/png": "[encoded data removed]"
          },
          "metadata": {}
        }
      ]
    }
  ]
}